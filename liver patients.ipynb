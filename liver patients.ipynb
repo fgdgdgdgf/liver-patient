{
 "cells": [
  {
   "cell_type": "code",
   "execution_count": 106,
   "id": "371024ac",
   "metadata": {},
   "outputs": [],
   "source": [
    "import pandas as pd\n",
    "import numpy as np\n",
    "import seaborn as sns\n",
    "import matplotlib.pyplot as plt\n",
    "from matplotlib import rcParams\n",
    "from scipy import stats"
   ]
  },
  {
   "cell_type": "code",
   "execution_count": 107,
   "id": "bfd7659e",
   "metadata": {},
   "outputs": [],
   "source": [
    "#import the dataset from specified location\n",
    "data = pd.read_csv('indian_liver_patient.csv')"
   ]
  },
  {
   "cell_type": "code",
   "execution_count": 108,
   "id": "c12b9b78",
   "metadata": {},
   "outputs": [
    {
     "data": {
      "text/html": [
       "<div>\n",
       "<style scoped>\n",
       "    .dataframe tbody tr th:only-of-type {\n",
       "        vertical-align: middle;\n",
       "    }\n",
       "\n",
       "    .dataframe tbody tr th {\n",
       "        vertical-align: top;\n",
       "    }\n",
       "\n",
       "    .dataframe thead th {\n",
       "        text-align: right;\n",
       "    }\n",
       "</style>\n",
       "<table border=\"1\" class=\"dataframe\">\n",
       "  <thead>\n",
       "    <tr style=\"text-align: right;\">\n",
       "      <th></th>\n",
       "      <th>Age</th>\n",
       "      <th>Gender</th>\n",
       "      <th>Total_Bilirubin</th>\n",
       "      <th>Direct_Bilirubin</th>\n",
       "      <th>Alkaline_Phosphotase</th>\n",
       "      <th>Alamine_Aminotransferase</th>\n",
       "      <th>Aspartate_Aminotransferase</th>\n",
       "      <th>Total_Protiens</th>\n",
       "      <th>Albumin</th>\n",
       "      <th>Albumin_and_Globulin_Ratio</th>\n",
       "      <th>Dataset</th>\n",
       "    </tr>\n",
       "  </thead>\n",
       "  <tbody>\n",
       "    <tr>\n",
       "      <th>0</th>\n",
       "      <td>65</td>\n",
       "      <td>Female</td>\n",
       "      <td>0.7</td>\n",
       "      <td>0.1</td>\n",
       "      <td>187</td>\n",
       "      <td>16</td>\n",
       "      <td>18</td>\n",
       "      <td>6.8</td>\n",
       "      <td>3.3</td>\n",
       "      <td>0.90</td>\n",
       "      <td>1</td>\n",
       "    </tr>\n",
       "    <tr>\n",
       "      <th>1</th>\n",
       "      <td>62</td>\n",
       "      <td>Male</td>\n",
       "      <td>10.9</td>\n",
       "      <td>5.5</td>\n",
       "      <td>699</td>\n",
       "      <td>64</td>\n",
       "      <td>100</td>\n",
       "      <td>7.5</td>\n",
       "      <td>3.2</td>\n",
       "      <td>0.74</td>\n",
       "      <td>1</td>\n",
       "    </tr>\n",
       "    <tr>\n",
       "      <th>2</th>\n",
       "      <td>62</td>\n",
       "      <td>Male</td>\n",
       "      <td>7.3</td>\n",
       "      <td>4.1</td>\n",
       "      <td>490</td>\n",
       "      <td>60</td>\n",
       "      <td>68</td>\n",
       "      <td>7.0</td>\n",
       "      <td>3.3</td>\n",
       "      <td>0.89</td>\n",
       "      <td>1</td>\n",
       "    </tr>\n",
       "    <tr>\n",
       "      <th>3</th>\n",
       "      <td>58</td>\n",
       "      <td>Male</td>\n",
       "      <td>1.0</td>\n",
       "      <td>0.4</td>\n",
       "      <td>182</td>\n",
       "      <td>14</td>\n",
       "      <td>20</td>\n",
       "      <td>6.8</td>\n",
       "      <td>3.4</td>\n",
       "      <td>1.00</td>\n",
       "      <td>1</td>\n",
       "    </tr>\n",
       "    <tr>\n",
       "      <th>4</th>\n",
       "      <td>72</td>\n",
       "      <td>Male</td>\n",
       "      <td>3.9</td>\n",
       "      <td>2.0</td>\n",
       "      <td>195</td>\n",
       "      <td>27</td>\n",
       "      <td>59</td>\n",
       "      <td>7.3</td>\n",
       "      <td>2.4</td>\n",
       "      <td>0.40</td>\n",
       "      <td>1</td>\n",
       "    </tr>\n",
       "  </tbody>\n",
       "</table>\n",
       "</div>"
      ],
      "text/plain": [
       "   Age  Gender  Total_Bilirubin  Direct_Bilirubin  Alkaline_Phosphotase  \\\n",
       "0   65  Female              0.7               0.1                   187   \n",
       "1   62    Male             10.9               5.5                   699   \n",
       "2   62    Male              7.3               4.1                   490   \n",
       "3   58    Male              1.0               0.4                   182   \n",
       "4   72    Male              3.9               2.0                   195   \n",
       "\n",
       "   Alamine_Aminotransferase  Aspartate_Aminotransferase  Total_Protiens  \\\n",
       "0                        16                          18             6.8   \n",
       "1                        64                         100             7.5   \n",
       "2                        60                          68             7.0   \n",
       "3                        14                          20             6.8   \n",
       "4                        27                          59             7.3   \n",
       "\n",
       "   Albumin  Albumin_and_Globulin_Ratio  Dataset  \n",
       "0      3.3                        0.90        1  \n",
       "1      3.2                        0.74        1  \n",
       "2      3.3                        0.89        1  \n",
       "3      3.4                        1.00        1  \n",
       "4      2.4                        0.40        1  "
      ]
     },
     "execution_count": 108,
     "metadata": {},
     "output_type": "execute_result"
    }
   ],
   "source": [
    "# showing the data from top 5\n",
    "data.head()"
   ]
  },
  {
   "cell_type": "code",
   "execution_count": 109,
   "id": "375a3d6b",
   "metadata": {},
   "outputs": [
    {
     "name": "stdout",
     "output_type": "stream",
     "text": [
      "<class 'pandas.core.frame.DataFrame'>\n",
      "RangeIndex: 583 entries, 0 to 582\n",
      "Data columns (total 11 columns):\n",
      " #   Column                      Non-Null Count  Dtype  \n",
      "---  ------                      --------------  -----  \n",
      " 0   Age                         583 non-null    int64  \n",
      " 1   Gender                      583 non-null    object \n",
      " 2   Total_Bilirubin             583 non-null    float64\n",
      " 3   Direct_Bilirubin            583 non-null    float64\n",
      " 4   Alkaline_Phosphotase        583 non-null    int64  \n",
      " 5   Alamine_Aminotransferase    583 non-null    int64  \n",
      " 6   Aspartate_Aminotransferase  583 non-null    int64  \n",
      " 7   Total_Protiens              583 non-null    float64\n",
      " 8   Albumin                     583 non-null    float64\n",
      " 9   Albumin_and_Globulin_Ratio  583 non-null    float64\n",
      " 10  Dataset                     583 non-null    int64  \n",
      "dtypes: float64(5), int64(5), object(1)\n",
      "memory usage: 50.2+ KB\n"
     ]
    }
   ],
   "source": [
    "data.info()"
   ]
  },
  {
   "cell_type": "code",
   "execution_count": 110,
   "id": "ff8eaeaf",
   "metadata": {},
   "outputs": [
    {
     "data": {
      "text/plain": [
       "Age                           False\n",
       "Gender                        False\n",
       "Total_Bilirubin               False\n",
       "Direct_Bilirubin              False\n",
       "Alkaline_Phosphotase          False\n",
       "Alamine_Aminotransferase      False\n",
       "Aspartate_Aminotransferase    False\n",
       "Total_Protiens                False\n",
       "Albumin                       False\n",
       "Albumin_and_Globulin_Ratio    False\n",
       "Dataset                       False\n",
       "dtype: bool"
      ]
     },
     "execution_count": 110,
     "metadata": {},
     "output_type": "execute_result"
    }
   ],
   "source": [
    "data.isnull().any()"
   ]
  },
  {
   "cell_type": "code",
   "execution_count": 111,
   "id": "7ce0ea97",
   "metadata": {},
   "outputs": [
    {
     "data": {
      "text/plain": [
       "Age                           0\n",
       "Gender                        0\n",
       "Total_Bilirubin               0\n",
       "Direct_Bilirubin              0\n",
       "Alkaline_Phosphotase          0\n",
       "Alamine_Aminotransferase      0\n",
       "Aspartate_Aminotransferase    0\n",
       "Total_Protiens                0\n",
       "Albumin                       0\n",
       "Albumin_and_Globulin_Ratio    0\n",
       "Dataset                       0\n",
       "dtype: int64"
      ]
     },
     "execution_count": 111,
     "metadata": {},
     "output_type": "execute_result"
    }
   ],
   "source": [
    "data.isnull().sum()"
   ]
  },
  {
   "cell_type": "code",
   "execution_count": 112,
   "id": "b7b16575",
   "metadata": {},
   "outputs": [],
   "source": [
    "from sklearn.preprocessing import LabelEncoder\n",
    "lc = LabelEncoder()\n",
    "data['Gender']= lc.fit_transform(data['Gender'])"
   ]
  },
  {
   "cell_type": "code",
   "execution_count": 113,
   "id": "e32b82ef",
   "metadata": {},
   "outputs": [
    {
     "data": {
      "text/html": [
       "<div>\n",
       "<style scoped>\n",
       "    .dataframe tbody tr th:only-of-type {\n",
       "        vertical-align: middle;\n",
       "    }\n",
       "\n",
       "    .dataframe tbody tr th {\n",
       "        vertical-align: top;\n",
       "    }\n",
       "\n",
       "    .dataframe thead th {\n",
       "        text-align: right;\n",
       "    }\n",
       "</style>\n",
       "<table border=\"1\" class=\"dataframe\">\n",
       "  <thead>\n",
       "    <tr style=\"text-align: right;\">\n",
       "      <th></th>\n",
       "      <th>Age</th>\n",
       "      <th>Gender</th>\n",
       "      <th>Total_Bilirubin</th>\n",
       "      <th>Direct_Bilirubin</th>\n",
       "      <th>Alkaline_Phosphotase</th>\n",
       "      <th>Alamine_Aminotransferase</th>\n",
       "      <th>Aspartate_Aminotransferase</th>\n",
       "      <th>Total_Protiens</th>\n",
       "      <th>Albumin</th>\n",
       "      <th>Albumin_and_Globulin_Ratio</th>\n",
       "      <th>Dataset</th>\n",
       "    </tr>\n",
       "  </thead>\n",
       "  <tbody>\n",
       "    <tr>\n",
       "      <th>count</th>\n",
       "      <td>583.000000</td>\n",
       "      <td>583.000000</td>\n",
       "      <td>583.000000</td>\n",
       "      <td>583.000000</td>\n",
       "      <td>583.000000</td>\n",
       "      <td>583.000000</td>\n",
       "      <td>583.000000</td>\n",
       "      <td>583.000000</td>\n",
       "      <td>583.000000</td>\n",
       "      <td>583.000000</td>\n",
       "      <td>583.000000</td>\n",
       "    </tr>\n",
       "    <tr>\n",
       "      <th>mean</th>\n",
       "      <td>44.746141</td>\n",
       "      <td>0.756432</td>\n",
       "      <td>3.298799</td>\n",
       "      <td>1.486106</td>\n",
       "      <td>290.576329</td>\n",
       "      <td>80.713551</td>\n",
       "      <td>109.910806</td>\n",
       "      <td>6.483190</td>\n",
       "      <td>3.141852</td>\n",
       "      <td>0.940566</td>\n",
       "      <td>1.286449</td>\n",
       "    </tr>\n",
       "    <tr>\n",
       "      <th>std</th>\n",
       "      <td>16.189833</td>\n",
       "      <td>0.429603</td>\n",
       "      <td>6.209522</td>\n",
       "      <td>2.808498</td>\n",
       "      <td>242.937989</td>\n",
       "      <td>182.620356</td>\n",
       "      <td>288.918529</td>\n",
       "      <td>1.085451</td>\n",
       "      <td>0.795519</td>\n",
       "      <td>0.327962</td>\n",
       "      <td>0.452490</td>\n",
       "    </tr>\n",
       "    <tr>\n",
       "      <th>min</th>\n",
       "      <td>4.000000</td>\n",
       "      <td>0.000000</td>\n",
       "      <td>0.400000</td>\n",
       "      <td>0.100000</td>\n",
       "      <td>63.000000</td>\n",
       "      <td>10.000000</td>\n",
       "      <td>10.000000</td>\n",
       "      <td>2.700000</td>\n",
       "      <td>0.900000</td>\n",
       "      <td>0.000000</td>\n",
       "      <td>1.000000</td>\n",
       "    </tr>\n",
       "    <tr>\n",
       "      <th>25%</th>\n",
       "      <td>33.000000</td>\n",
       "      <td>1.000000</td>\n",
       "      <td>0.800000</td>\n",
       "      <td>0.200000</td>\n",
       "      <td>175.500000</td>\n",
       "      <td>23.000000</td>\n",
       "      <td>25.000000</td>\n",
       "      <td>5.800000</td>\n",
       "      <td>2.600000</td>\n",
       "      <td>0.700000</td>\n",
       "      <td>1.000000</td>\n",
       "    </tr>\n",
       "    <tr>\n",
       "      <th>50%</th>\n",
       "      <td>45.000000</td>\n",
       "      <td>1.000000</td>\n",
       "      <td>1.000000</td>\n",
       "      <td>0.300000</td>\n",
       "      <td>208.000000</td>\n",
       "      <td>35.000000</td>\n",
       "      <td>42.000000</td>\n",
       "      <td>6.600000</td>\n",
       "      <td>3.100000</td>\n",
       "      <td>0.920000</td>\n",
       "      <td>1.000000</td>\n",
       "    </tr>\n",
       "    <tr>\n",
       "      <th>75%</th>\n",
       "      <td>58.000000</td>\n",
       "      <td>1.000000</td>\n",
       "      <td>2.600000</td>\n",
       "      <td>1.300000</td>\n",
       "      <td>298.000000</td>\n",
       "      <td>60.500000</td>\n",
       "      <td>87.000000</td>\n",
       "      <td>7.200000</td>\n",
       "      <td>3.800000</td>\n",
       "      <td>1.100000</td>\n",
       "      <td>2.000000</td>\n",
       "    </tr>\n",
       "    <tr>\n",
       "      <th>max</th>\n",
       "      <td>90.000000</td>\n",
       "      <td>1.000000</td>\n",
       "      <td>75.000000</td>\n",
       "      <td>19.700000</td>\n",
       "      <td>2110.000000</td>\n",
       "      <td>2000.000000</td>\n",
       "      <td>4929.000000</td>\n",
       "      <td>9.600000</td>\n",
       "      <td>5.500000</td>\n",
       "      <td>2.800000</td>\n",
       "      <td>2.000000</td>\n",
       "    </tr>\n",
       "  </tbody>\n",
       "</table>\n",
       "</div>"
      ],
      "text/plain": [
       "              Age      Gender  Total_Bilirubin  Direct_Bilirubin  \\\n",
       "count  583.000000  583.000000       583.000000        583.000000   \n",
       "mean    44.746141    0.756432         3.298799          1.486106   \n",
       "std     16.189833    0.429603         6.209522          2.808498   \n",
       "min      4.000000    0.000000         0.400000          0.100000   \n",
       "25%     33.000000    1.000000         0.800000          0.200000   \n",
       "50%     45.000000    1.000000         1.000000          0.300000   \n",
       "75%     58.000000    1.000000         2.600000          1.300000   \n",
       "max     90.000000    1.000000        75.000000         19.700000   \n",
       "\n",
       "       Alkaline_Phosphotase  Alamine_Aminotransferase  \\\n",
       "count            583.000000                583.000000   \n",
       "mean             290.576329                 80.713551   \n",
       "std              242.937989                182.620356   \n",
       "min               63.000000                 10.000000   \n",
       "25%              175.500000                 23.000000   \n",
       "50%              208.000000                 35.000000   \n",
       "75%              298.000000                 60.500000   \n",
       "max             2110.000000               2000.000000   \n",
       "\n",
       "       Aspartate_Aminotransferase  Total_Protiens     Albumin  \\\n",
       "count                  583.000000      583.000000  583.000000   \n",
       "mean                   109.910806        6.483190    3.141852   \n",
       "std                    288.918529        1.085451    0.795519   \n",
       "min                     10.000000        2.700000    0.900000   \n",
       "25%                     25.000000        5.800000    2.600000   \n",
       "50%                     42.000000        6.600000    3.100000   \n",
       "75%                     87.000000        7.200000    3.800000   \n",
       "max                   4929.000000        9.600000    5.500000   \n",
       "\n",
       "       Albumin_and_Globulin_Ratio     Dataset  \n",
       "count                  583.000000  583.000000  \n",
       "mean                     0.940566    1.286449  \n",
       "std                      0.327962    0.452490  \n",
       "min                      0.000000    1.000000  \n",
       "25%                      0.700000    1.000000  \n",
       "50%                      0.920000    1.000000  \n",
       "75%                      1.100000    2.000000  \n",
       "max                      2.800000    2.000000  "
      ]
     },
     "execution_count": 113,
     "metadata": {},
     "output_type": "execute_result"
    }
   ],
   "source": [
    "data.describe()"
   ]
  },
  {
   "cell_type": "code",
   "execution_count": 114,
   "id": "e5e379b1",
   "metadata": {},
   "outputs": [
    {
     "data": {
      "image/png": "[encoded data removed]",
      "text/plain": [
       "<Figure size 500x500 with 1 Axes>"
      ]
     },
     "metadata": {},
     "output_type": "display_data"
    }
   ],
   "source": [
    "sns.displot(data['Age'])\n",
    "plt.title('Age Distribution Graph')\n",
    "plt.show()"
   ]
  },
  {
   "cell_type": "code",
   "execution_count": 115,
   "id": "5eaec6d9",
   "metadata": {
    "scrolled": true
   },
   "outputs": [
    {
     "data": {
      "text/plain": [
       "<Axes: ylabel='count'>"
      ]
     },
     "execution_count": 115,
     "metadata": {},
     "output_type": "execute_result"
    },
    {
     "data": {
      "image/png": "[encoded data removed]",
      "text/plain": [
       "<Figure size 640x480 with 1 Axes>"
      ]
     },
     "metadata": {},
     "output_type": "display_data"
    }
   ],
   "source": [
    "sns.countplot(data)"
   ]
  },
  {
   "cell_type": "code",
   "execution_count": 116,
   "id": "1069d6e4",
   "metadata": {
    "scrolled": false
   },
   "outputs": [
    {
     "data": {
      "text/plain": [
       "<Axes: >"
      ]
     },
     "execution_count": 116,
     "metadata": {},
     "output_type": "execute_result"
    },
    {
     "data": {
      "image/png": "[encoded data removed]",
      "text/plain": [
       "<Figure size 1000x700 with 2 Axes>"
      ]
     },
     "metadata": {},
     "output_type": "display_data"
    }
   ],
   "source": [
    "plt.figure(figsize=(10,7))\n",
    "\n",
    "sns.heatmap(data.corr(),annot=True)    "
   ]
  },
  {
   "cell_type": "code",
   "execution_count": 117,
   "id": "08c75c62",
   "metadata": {},
   "outputs": [],
   "source": [
    "from sklearn.preprocessing import scale\n",
    "X_scaled=pd.DataFrame (scale(X), columns=X.columns)"
   ]
  },
  {
   "cell_type": "code",
   "execution_count": 118,
   "id": "77ee091b",
   "metadata": {
    "scrolled": true
   },
   "outputs": [
    {
     "data": {
      "text/html": [
       "<div>\n",
       "<style scoped>\n",
       "    .dataframe tbody tr th:only-of-type {\n",
       "        vertical-align: middle;\n",
       "    }\n",
       "\n",
       "    .dataframe tbody tr th {\n",
       "        vertical-align: top;\n",
       "    }\n",
       "\n",
       "    .dataframe thead th {\n",
       "        text-align: right;\n",
       "    }\n",
       "</style>\n",
       "<table border=\"1\" class=\"dataframe\">\n",
       "  <thead>\n",
       "    <tr style=\"text-align: right;\">\n",
       "      <th></th>\n",
       "      <th>Age</th>\n",
       "      <th>Gender</th>\n",
       "      <th>Total_Bilirubin</th>\n",
       "      <th>Direct_Bilirubin</th>\n",
       "      <th>Alkaline_Phosphotase</th>\n",
       "      <th>Alamine_Aminotransferase</th>\n",
       "      <th>Aspartate_Aminotransferase</th>\n",
       "      <th>Total_Protiens</th>\n",
       "      <th>Albumin</th>\n",
       "      <th>Albumin_and_Globulin_Ratio</th>\n",
       "    </tr>\n",
       "  </thead>\n",
       "  <tbody>\n",
       "    <tr>\n",
       "      <th>0</th>\n",
       "      <td>1.252098</td>\n",
       "      <td>-1.762281</td>\n",
       "      <td>-0.418878</td>\n",
       "      <td>-0.493964</td>\n",
       "      <td>-0.426715</td>\n",
       "      <td>-0.354665</td>\n",
       "      <td>-0.318393</td>\n",
       "      <td>0.292120</td>\n",
       "      <td>0.198969</td>\n",
       "      <td>-0.123797</td>\n",
       "    </tr>\n",
       "    <tr>\n",
       "      <th>1</th>\n",
       "      <td>1.066637</td>\n",
       "      <td>0.567446</td>\n",
       "      <td>1.225171</td>\n",
       "      <td>1.430423</td>\n",
       "      <td>1.682629</td>\n",
       "      <td>-0.091599</td>\n",
       "      <td>-0.034333</td>\n",
       "      <td>0.937566</td>\n",
       "      <td>0.073157</td>\n",
       "      <td>-0.612077</td>\n",
       "    </tr>\n",
       "    <tr>\n",
       "      <th>2</th>\n",
       "      <td>1.066637</td>\n",
       "      <td>0.567446</td>\n",
       "      <td>0.644919</td>\n",
       "      <td>0.931508</td>\n",
       "      <td>0.821588</td>\n",
       "      <td>-0.113522</td>\n",
       "      <td>-0.145186</td>\n",
       "      <td>0.476533</td>\n",
       "      <td>0.198969</td>\n",
       "      <td>-0.154315</td>\n",
       "    </tr>\n",
       "    <tr>\n",
       "      <th>3</th>\n",
       "      <td>0.819356</td>\n",
       "      <td>0.567446</td>\n",
       "      <td>-0.370523</td>\n",
       "      <td>-0.387054</td>\n",
       "      <td>-0.447314</td>\n",
       "      <td>-0.365626</td>\n",
       "      <td>-0.311465</td>\n",
       "      <td>0.292120</td>\n",
       "      <td>0.324781</td>\n",
       "      <td>0.181378</td>\n",
       "    </tr>\n",
       "    <tr>\n",
       "      <th>4</th>\n",
       "      <td>1.684839</td>\n",
       "      <td>0.567446</td>\n",
       "      <td>0.096902</td>\n",
       "      <td>0.183135</td>\n",
       "      <td>-0.393756</td>\n",
       "      <td>-0.294379</td>\n",
       "      <td>-0.176363</td>\n",
       "      <td>0.753153</td>\n",
       "      <td>-0.933340</td>\n",
       "      <td>-1.649672</td>\n",
       "    </tr>\n",
       "  </tbody>\n",
       "</table>\n",
       "</div>"
      ],
      "text/plain": [
       "        Age    Gender  Total_Bilirubin  Direct_Bilirubin  \\\n",
       "0  1.252098 -1.762281        -0.418878         -0.493964   \n",
       "1  1.066637  0.567446         1.225171          1.430423   \n",
       "2  1.066637  0.567446         0.644919          0.931508   \n",
       "3  0.819356  0.567446        -0.370523         -0.387054   \n",
       "4  1.684839  0.567446         0.096902          0.183135   \n",
       "\n",
       "   Alkaline_Phosphotase  Alamine_Aminotransferase  Aspartate_Aminotransferase  \\\n",
       "0             -0.426715                 -0.354665                   -0.318393   \n",
       "1              1.682629                 -0.091599                   -0.034333   \n",
       "2              0.821588                 -0.113522                   -0.145186   \n",
       "3             -0.447314                 -0.365626                   -0.311465   \n",
       "4             -0.393756                 -0.294379                   -0.176363   \n",
       "\n",
       "   Total_Protiens   Albumin  Albumin_and_Globulin_Ratio  \n",
       "0        0.292120  0.198969                   -0.123797  \n",
       "1        0.937566  0.073157                   -0.612077  \n",
       "2        0.476533  0.198969                   -0.154315  \n",
       "3        0.292120  0.324781                    0.181378  \n",
       "4        0.753153 -0.933340                   -1.649672  "
      ]
     },
     "execution_count": 118,
     "metadata": {},
     "output_type": "execute_result"
    }
   ],
   "source": [
    "X_scaled.head()"
   ]
  },
  {
   "cell_type": "code",
   "execution_count": 120,
   "id": "a254d51c",
   "metadata": {},
   "outputs": [],
   "source": [
    "X=data.iloc[:,:-1]\n",
    "y=data.Dataset"
   ]
  },
  {
   "cell_type": "code",
   "execution_count": 121,
   "id": "435e1526",
   "metadata": {},
   "outputs": [],
   "source": [
    "from sklearn.model_selection import train_test_split\n",
    "\n",
    "X_train, X_test, y_train, y_test = train_test_split(X_scaled,y, test_size=0.2, random_state=42)"
   ]
  },
  {
   "cell_type": "code",
   "execution_count": 122,
   "id": "d443373b",
   "metadata": {},
   "outputs": [
    {
     "data": {
      "text/plain": [
       "1    329\n",
       "2    137\n",
       "Name: Dataset, dtype: int64"
      ]
     },
     "execution_count": 122,
     "metadata": {},
     "output_type": "execute_result"
    }
   ],
   "source": [
    "y_train.value_counts()"
   ]
  },
  {
   "cell_type": "code",
   "execution_count": 123,
   "id": "efca49f9",
   "metadata": {},
   "outputs": [
    {
     "name": "stdout",
     "output_type": "stream",
     "text": [
      "Requirement already satisfied: imblearn in c:\\users\\gasccs23\\anaconda3\\lib\\site-packages (0.0)\n",
      "Requirement already satisfied: imbalanced-learn in c:\\users\\gasccs23\\anaconda3\\lib\\site-packages (from imblearn) (0.10.1)\n",
      "Requirement already satisfied: joblib>=1.1.1 in c:\\users\\gasccs23\\anaconda3\\lib\\site-packages (from imbalanced-learn->imblearn) (1.1.1)\n",
      "Requirement already satisfied: numpy>=1.17.3 in c:\\users\\gasccs23\\anaconda3\\lib\\site-packages (from imbalanced-learn->imblearn) (1.23.5)\n",
      "Requirement already satisfied: threadpoolctl>=2.0.0 in c:\\users\\gasccs23\\anaconda3\\lib\\site-packages (from imbalanced-learn->imblearn) (2.2.0)\n",
      "Requirement already satisfied: scikit-learn>=1.0.2 in c:\\users\\gasccs23\\anaconda3\\lib\\site-packages (from imbalanced-learn->imblearn) (1.2.1)\n",
      "Requirement already satisfied: scipy>=1.3.2 in c:\\users\\gasccs23\\anaconda3\\lib\\site-packages (from imbalanced-learn->imblearn) (1.10.0)\n",
      "Note: you may need to restart the kernel to use updated packages.\n"
     ]
    }
   ],
   "source": [
    "pip install imblearn"
   ]
  },
  {
   "cell_type": "code",
   "execution_count": 124,
   "id": "e19e6168",
   "metadata": {
    "scrolled": true
   },
   "outputs": [],
   "source": [
    "from imblearn.over_sampling import SMOTE\n",
    "smote = SMOTE()"
   ]
  },
  {
   "cell_type": "code",
   "execution_count": 125,
   "id": "443219ac",
   "metadata": {},
   "outputs": [
    {
     "data": {
      "text/plain": [
       "1    329\n",
       "2    137\n",
       "Name: Dataset, dtype: int64"
      ]
     },
     "execution_count": 125,
     "metadata": {},
     "output_type": "execute_result"
    }
   ],
   "source": [
    "y_train.value_counts()"
   ]
  },
  {
   "cell_type": "code",
   "execution_count": 126,
   "id": "860868d1",
   "metadata": {
    "scrolled": true
   },
   "outputs": [],
   "source": [
    "# X_train_smote,y_train_smote = smote.fit_resample(X_train, y_train)"
   ]
  },
  {
   "cell_type": "code",
   "execution_count": 133,
   "id": "79f69b26",
   "metadata": {},
   "outputs": [
    {
     "name": "stdout",
     "output_type": "stream",
     "text": [
      "              precision    recall  f1-score   support\n",
      "\n",
      "           1       0.80      0.87      0.84        87\n",
      "           2       0.50      0.37      0.42        30\n",
      "\n",
      "    accuracy                           0.74       117\n",
      "   macro avg       0.65      0.62      0.63       117\n",
      "weighted avg       0.72      0.74      0.73       117\n",
      "\n"
     ]
    }
   ],
   "source": [
    "from sklearn.ensemble import RandomForestClassifier\n",
    "from sklearn.metrics import accuracy_score,classification_report\n",
    "model1=RandomForestClassifier()\n",
    "model1.fit(X_train,y_train)\n",
    "y_predict=model1.predict(X_test)\n",
    "rfc1= accuracy_score(y_test,y_predict)\n",
    "rfc1\n",
    "pd.crosstab(y_test,y_predict)\n",
    "print(classification_report(y_test,y_predict))\n"
   ]
  },
  {
   "cell_type": "code",
   "execution_count": 162,
   "id": "071c36cf",
   "metadata": {},
   "outputs": [
    {
     "name": "stdout",
     "output_type": "stream",
     "text": [
      "              precision    recall  f1-score   support\n",
      "\n",
      "           1       0.82      0.76      0.79        87\n",
      "           2       0.43      0.53      0.48        30\n",
      "\n",
      "    accuracy                           0.70       117\n",
      "   macro avg       0.63      0.65      0.63       117\n",
      "weighted avg       0.72      0.70      0.71       117\n",
      "\n"
     ]
    }
   ],
   "source": [
    "from sklearn.tree import DecisionTreeClassifier\n",
    "model4=DecisionTreeClassifier()\n",
    "model4.fit(X_train,y_train)\n",
    "y_predict=model4.predict(X_test)\n",
    "dtc1=accuracy_score(y_test,y_predict)\n",
    "dtc1\n",
    "pd.crosstab(y_test, y_predict)\n",
    "print(classification_report(y_test, y_predict))"
   ]
  },
  {
   "cell_type": "code",
   "execution_count": 167,
   "id": "f046d728",
   "metadata": {},
   "outputs": [
    {
     "name": "stdout",
     "output_type": "stream",
     "text": [
      "              precision    recall  f1-score   support\n",
      "\n",
      "           1       0.81      0.71      0.76        87\n",
      "           2       0.38      0.50      0.43        30\n",
      "\n",
      "    accuracy                           0.66       117\n",
      "   macro avg       0.59      0.61      0.59       117\n",
      "weighted avg       0.69      0.66      0.67       117\n",
      "\n"
     ]
    }
   ],
   "source": [
    "from sklearn.neighbors import KNeighborsClassifier\n",
    "model2=KNeighborsClassifier()\n",
    "model2.fit(X_train,y_train)\n",
    "y_predict = model2.predict(X_test)\n",
    "knn1=(accuracy_score(y_test,y_predict))\n",
    "knn1\n",
    "pd.crosstab(y_test,y_predict)\n",
    "print(classification_report(y_test,y_predict))"
   ]
  },
  {
   "cell_type": "code",
   "execution_count": 168,
   "id": "2b6e6f8b",
   "metadata": {},
   "outputs": [
    {
     "name": "stdout",
     "output_type": "stream",
     "text": [
      "              precision    recall  f1-score   support\n",
      "\n",
      "           1       0.78      0.93      0.85        87\n",
      "           2       0.54      0.23      0.33        30\n",
      "\n",
      "    accuracy                           0.75       117\n",
      "   macro avg       0.66      0.58      0.59       117\n",
      "weighted avg       0.72      0.75      0.71       117\n",
      "\n"
     ]
    }
   ],
   "source": [
    "from sklearn.linear_model import LogisticRegression\n",
    "model5=LogisticRegression()\n",
    "model5.fit(X_train, y_train)\n",
    "y_predict=model5.predict(X_test)\n",
    "logi1=(accuracy_score(y_test, y_predict))\n",
    "logi1\n",
    "pd.crosstab(y_test, y_predict)\n",
    "print(classification_report(y_test,y_predict))"
   ]
  },
  {
   "cell_type": "code",
   "execution_count": 204,
   "id": "466e7eb7",
   "metadata": {},
   "outputs": [],
   "source": [
    "import tensorflow.keras\n",
    "from tensorflow.keras.models import Sequential\n",
    "from tensorflow.keras.layers import Dense"
   ]
  },
  {
   "cell_type": "code",
   "execution_count": 205,
   "id": "22bd1662",
   "metadata": {},
   "outputs": [],
   "source": [
    "# Initialising the ANN\n",
    "classifier = Sequential()\n"
   ]
  },
  {
   "cell_type": "code",
   "execution_count": 206,
   "id": "f93467f7",
   "metadata": {},
   "outputs": [],
   "source": [
    "# Adding the input layer and the first hidden layer\n",
    "classifier.add(Dense(units=100,activation='relu', input_dim=10))\n"
   ]
  },
  {
   "cell_type": "code",
   "execution_count": 207,
   "id": "13ece418",
   "metadata": {},
   "outputs": [],
   "source": [
    "#Adding the second hidden layer\n",
    "classifier.add(Dense(units=50,activation='relu'))\n"
   ]
  },
  {
   "cell_type": "code",
   "execution_count": 208,
   "id": "7fe0d9af",
   "metadata": {},
   "outputs": [],
   "source": [
    "# Adding the output layer\n",
    "classifier.add(Dense(units=1,activation='sigmoid'))\n"
   ]
  },
  {
   "cell_type": "code",
   "execution_count": 209,
   "id": "5632c650",
   "metadata": {},
   "outputs": [],
   "source": [
    "# Compiling the ANN\n",
    "classifier.compile(optimizer='adam',loss='binary_crossentropy',metrics=['accuracy'])\n"
   ]
  },
  {
   "cell_type": "code",
   "execution_count": 211,
   "id": "e3f33d4b",
   "metadata": {},
   "outputs": [
    {
     "name": "stdout",
     "output_type": "stream",
     "text": [
      "Epoch 1/100\n",
      "4/4 [==============================] - 2s 99ms/step - loss: 0.5383 - accuracy: 0.6022 - val_loss: 0.3944 - val_accuracy: 0.7021\n",
      "Epoch 2/100\n",
      "4/4 [==============================] - 0s 11ms/step - loss: 0.3003 - accuracy: 0.6989 - val_loss: 0.1778 - val_accuracy: 0.7234\n",
      "Epoch 3/100\n",
      "4/4 [==============================] - 0s 10ms/step - loss: 0.0888 - accuracy: 0.7016 - val_loss: -0.0130 - val_accuracy: 0.7234\n",
      "Epoch 4/100\n",
      "4/4 [==============================] - 0s 10ms/step - loss: -0.1054 - accuracy: 0.7016 - val_loss: -0.1898 - val_accuracy: 0.7234\n",
      "Epoch 5/100\n",
      "4/4 [==============================] - 0s 9ms/step - loss: -0.2936 - accuracy: 0.7016 - val_loss: -0.3590 - val_accuracy: 0.7234\n",
      "Epoch 6/100\n",
      "4/4 [==============================] - 0s 7ms/step - loss: -0.4723 - accuracy: 0.7016 - val_loss: -0.5290 - val_accuracy: 0.7234\n",
      "Epoch 7/100\n",
      "4/4 [==============================] - 0s 5ms/step - loss: -0.6517 - accuracy: 0.7016 - val_loss: -0.7024 - val_accuracy: 0.7234\n",
      "Epoch 8/100\n",
      "4/4 [==============================] - 0s 12ms/step - loss: -0.8417 - accuracy: 0.7016 - val_loss: -0.8835 - val_accuracy: 0.7234\n",
      "Epoch 9/100\n",
      "4/4 [==============================] - 0s 12ms/step - loss: -1.0509 - accuracy: 0.7016 - val_loss: -1.0765 - val_accuracy: 0.7234\n",
      "Epoch 10/100\n",
      "4/4 [==============================] - 0s 11ms/step - loss: -1.2516 - accuracy: 0.7016 - val_loss: -1.2912 - val_accuracy: 0.7234\n",
      "Epoch 11/100\n",
      "4/4 [==============================] - 0s 7ms/step - loss: -1.4981 - accuracy: 0.7016 - val_loss: -1.5249 - val_accuracy: 0.7234\n",
      "Epoch 12/100\n",
      "4/4 [==============================] - 0s 11ms/step - loss: -1.7509 - accuracy: 0.7016 - val_loss: -1.7914 - val_accuracy: 0.7234\n",
      "Epoch 13/100\n",
      "4/4 [==============================] - 0s 10ms/step - loss: -2.0497 - accuracy: 0.7016 - val_loss: -2.0914 - val_accuracy: 0.7234\n",
      "Epoch 14/100\n",
      "4/4 [==============================] - 0s 10ms/step - loss: -2.3893 - accuracy: 0.7016 - val_loss: -2.4330 - val_accuracy: 0.7234\n",
      "Epoch 15/100\n",
      "4/4 [==============================] - 0s 9ms/step - loss: -2.7754 - accuracy: 0.7016 - val_loss: -2.8261 - val_accuracy: 0.7234\n",
      "Epoch 16/100\n",
      "4/4 [==============================] - 0s 11ms/step - loss: -3.1899 - accuracy: 0.7016 - val_loss: -3.2804 - val_accuracy: 0.7234\n",
      "Epoch 17/100\n",
      "4/4 [==============================] - 0s 10ms/step - loss: -3.7287 - accuracy: 0.7016 - val_loss: -3.7868 - val_accuracy: 0.7234\n",
      "Epoch 18/100\n",
      "4/4 [==============================] - 0s 10ms/step - loss: -4.2758 - accuracy: 0.7016 - val_loss: -4.3744 - val_accuracy: 0.7234\n",
      "Epoch 19/100\n",
      "4/4 [==============================] - 0s 9ms/step - loss: -4.8999 - accuracy: 0.7016 - val_loss: -5.0480 - val_accuracy: 0.7234\n",
      "Epoch 20/100\n",
      "4/4 [==============================] - 0s 11ms/step - loss: -5.6418 - accuracy: 0.7016 - val_loss: -5.8056 - val_accuracy: 0.7234\n",
      "Epoch 21/100\n",
      "4/4 [==============================] - 0s 10ms/step - loss: -6.4632 - accuracy: 0.7016 - val_loss: -6.6603 - val_accuracy: 0.7234\n",
      "Epoch 22/100\n",
      "4/4 [==============================] - 0s 9ms/step - loss: -7.3781 - accuracy: 0.7016 - val_loss: -7.6243 - val_accuracy: 0.7234\n",
      "Epoch 23/100\n",
      "4/4 [==============================] - 0s 12ms/step - loss: -8.4249 - accuracy: 0.7016 - val_loss: -8.6955 - val_accuracy: 0.7234\n",
      "Epoch 24/100\n",
      "4/4 [==============================] - 0s 12ms/step - loss: -9.5697 - accuracy: 0.7016 - val_loss: -9.8912 - val_accuracy: 0.7234\n",
      "Epoch 25/100\n",
      "4/4 [==============================] - 0s 11ms/step - loss: -10.8421 - accuracy: 0.7016 - val_loss: -11.2277 - val_accuracy: 0.7234\n",
      "Epoch 26/100\n",
      "4/4 [==============================] - 0s 13ms/step - loss: -12.2434 - accuracy: 0.7016 - val_loss: -12.7111 - val_accuracy: 0.7234\n",
      "Epoch 27/100\n",
      "4/4 [==============================] - 0s 12ms/step - loss: -13.8178 - accuracy: 0.7016 - val_loss: -14.3275 - val_accuracy: 0.7234\n",
      "Epoch 28/100\n",
      "4/4 [==============================] - 0s 12ms/step - loss: -15.4329 - accuracy: 0.7016 - val_loss: -16.1419 - val_accuracy: 0.7234\n",
      "Epoch 29/100\n",
      "4/4 [==============================] - 0s 11ms/step - loss: -17.4361 - accuracy: 0.7016 - val_loss: -18.0569 - val_accuracy: 0.7234\n",
      "Epoch 30/100\n",
      "4/4 [==============================] - 0s 11ms/step - loss: -19.3913 - accuracy: 0.7016 - val_loss: -20.1971 - val_accuracy: 0.7234\n",
      "Epoch 31/100\n",
      "4/4 [==============================] - 0s 7ms/step - loss: -21.6111 - accuracy: 0.7016 - val_loss: -22.5223 - val_accuracy: 0.7234\n",
      "Epoch 32/100\n",
      "4/4 [==============================] - 0s 9ms/step - loss: -23.9494 - accuracy: 0.7016 - val_loss: -25.0668 - val_accuracy: 0.7234\n",
      "Epoch 33/100\n",
      "4/4 [==============================] - 0s 7ms/step - loss: -26.6531 - accuracy: 0.7016 - val_loss: -27.7491 - val_accuracy: 0.7234\n",
      "Epoch 34/100\n",
      "4/4 [==============================] - 0s 13ms/step - loss: -29.3972 - accuracy: 0.7016 - val_loss: -30.6628 - val_accuracy: 0.7234\n",
      "Epoch 35/100\n",
      "4/4 [==============================] - 0s 7ms/step - loss: -32.5297 - accuracy: 0.7016 - val_loss: -33.8149 - val_accuracy: 0.7234\n",
      "Epoch 36/100\n",
      "4/4 [==============================] - 0s 11ms/step - loss: -35.6933 - accuracy: 0.7016 - val_loss: -37.2319 - val_accuracy: 0.7234\n",
      "Epoch 37/100\n",
      "4/4 [==============================] - 0s 11ms/step - loss: -39.3444 - accuracy: 0.7016 - val_loss: -40.8578 - val_accuracy: 0.7234\n",
      "Epoch 38/100\n",
      "4/4 [==============================] - 0s 11ms/step - loss: -42.8829 - accuracy: 0.7016 - val_loss: -44.8140 - val_accuracy: 0.7234\n",
      "Epoch 39/100\n",
      "4/4 [==============================] - 0s 10ms/step - loss: -46.9745 - accuracy: 0.7016 - val_loss: -48.9800 - val_accuracy: 0.7234\n",
      "Epoch 40/100\n",
      "4/4 [==============================] - 0s 5ms/step - loss: -51.2513 - accuracy: 0.7016 - val_loss: -53.4027 - val_accuracy: 0.7234\n",
      "Epoch 41/100\n",
      "4/4 [==============================] - 0s 10ms/step - loss: -55.6272 - accuracy: 0.7016 - val_loss: -58.1685 - val_accuracy: 0.7234\n",
      "Epoch 42/100\n",
      "4/4 [==============================] - 0s 10ms/step - loss: -60.4573 - accuracy: 0.7016 - val_loss: -63.1735 - val_accuracy: 0.7234\n",
      "Epoch 43/100\n",
      "4/4 [==============================] - 0s 11ms/step - loss: -65.6014 - accuracy: 0.7016 - val_loss: -68.5299 - val_accuracy: 0.7234\n",
      "Epoch 44/100\n",
      "4/4 [==============================] - 0s 10ms/step - loss: -71.1296 - accuracy: 0.7016 - val_loss: -74.1656 - val_accuracy: 0.7234\n",
      "Epoch 45/100\n",
      "4/4 [==============================] - 0s 10ms/step - loss: -76.8418 - accuracy: 0.7016 - val_loss: -80.1956 - val_accuracy: 0.7234\n",
      "Epoch 46/100\n",
      "4/4 [==============================] - 0s 10ms/step - loss: -82.9329 - accuracy: 0.7016 - val_loss: -86.5832 - val_accuracy: 0.7234\n",
      "Epoch 47/100\n",
      "4/4 [==============================] - 0s 9ms/step - loss: -89.2847 - accuracy: 0.7016 - val_loss: -93.3797 - val_accuracy: 0.7234\n",
      "Epoch 48/100\n",
      "4/4 [==============================] - 0s 12ms/step - loss: -95.8452 - accuracy: 0.7016 - val_loss: -100.6103 - val_accuracy: 0.7234\n",
      "Epoch 49/100\n",
      "4/4 [==============================] - 0s 9ms/step - loss: -103.1333 - accuracy: 0.7016 - val_loss: -108.1532 - val_accuracy: 0.7234\n",
      "Epoch 50/100\n",
      "4/4 [==============================] - 0s 12ms/step - loss: -110.8366 - accuracy: 0.7016 - val_loss: -116.0199 - val_accuracy: 0.7234\n",
      "Epoch 51/100\n",
      "4/4 [==============================] - 0s 11ms/step - loss: -118.2739 - accuracy: 0.7016 - val_loss: -124.3890 - val_accuracy: 0.7234\n",
      "Epoch 52/100\n",
      "4/4 [==============================] - 0s 17ms/step - loss: -126.4465 - accuracy: 0.7016 - val_loss: -133.1046 - val_accuracy: 0.7234\n",
      "Epoch 53/100\n",
      "4/4 [==============================] - 0s 11ms/step - loss: -135.0074 - accuracy: 0.7016 - val_loss: -142.1885 - val_accuracy: 0.7234\n",
      "Epoch 54/100\n",
      "4/4 [==============================] - 0s 14ms/step - loss: -144.3652 - accuracy: 0.7016 - val_loss: -151.5968 - val_accuracy: 0.7234\n",
      "Epoch 55/100\n",
      "4/4 [==============================] - 0s 7ms/step - loss: -153.6656 - accuracy: 0.7016 - val_loss: -161.4691 - val_accuracy: 0.7234\n",
      "Epoch 56/100\n",
      "4/4 [==============================] - 0s 6ms/step - loss: -163.3226 - accuracy: 0.7016 - val_loss: -171.9520 - val_accuracy: 0.7234\n",
      "Epoch 57/100\n",
      "4/4 [==============================] - 0s 6ms/step - loss: -173.6217 - accuracy: 0.7016 - val_loss: -182.8673 - val_accuracy: 0.7234\n"
     ]
    },
    {
     "name": "stdout",
     "output_type": "stream",
     "text": [
      "Epoch 58/100\n",
      "4/4 [==============================] - 0s 10ms/step - loss: -183.8257 - accuracy: 0.7016 - val_loss: -194.3380 - val_accuracy: 0.7234\n",
      "Epoch 59/100\n",
      "4/4 [==============================] - 0s 10ms/step - loss: -195.2843 - accuracy: 0.7016 - val_loss: -206.0800 - val_accuracy: 0.7234\n",
      "Epoch 60/100\n",
      "4/4 [==============================] - 0s 10ms/step - loss: -207.0018 - accuracy: 0.7016 - val_loss: -218.2609 - val_accuracy: 0.7234\n",
      "Epoch 61/100\n",
      "4/4 [==============================] - 0s 10ms/step - loss: -218.5295 - accuracy: 0.7016 - val_loss: -231.1248 - val_accuracy: 0.7234\n",
      "Epoch 62/100\n",
      "4/4 [==============================] - 0s 9ms/step - loss: -231.7250 - accuracy: 0.7016 - val_loss: -244.3105 - val_accuracy: 0.7234\n",
      "Epoch 63/100\n",
      "4/4 [==============================] - 0s 11ms/step - loss: -244.2405 - accuracy: 0.7016 - val_loss: -258.2271 - val_accuracy: 0.7234\n",
      "Epoch 64/100\n",
      "4/4 [==============================] - 0s 11ms/step - loss: -257.6499 - accuracy: 0.7016 - val_loss: -272.6742 - val_accuracy: 0.7234\n",
      "Epoch 65/100\n",
      "4/4 [==============================] - 0s 10ms/step - loss: -271.3770 - accuracy: 0.7016 - val_loss: -287.8164 - val_accuracy: 0.7234\n",
      "Epoch 66/100\n",
      "4/4 [==============================] - 0s 11ms/step - loss: -286.0098 - accuracy: 0.7016 - val_loss: -303.4897 - val_accuracy: 0.7234\n",
      "Epoch 67/100\n",
      "4/4 [==============================] - 0s 12ms/step - loss: -300.9242 - accuracy: 0.7016 - val_loss: -319.6693 - val_accuracy: 0.7234\n",
      "Epoch 68/100\n",
      "4/4 [==============================] - 0s 11ms/step - loss: -316.8204 - accuracy: 0.7016 - val_loss: -336.1656 - val_accuracy: 0.7234\n",
      "Epoch 69/100\n",
      "4/4 [==============================] - 0s 13ms/step - loss: -333.0105 - accuracy: 0.7016 - val_loss: -353.2692 - val_accuracy: 0.7234\n",
      "Epoch 70/100\n",
      "4/4 [==============================] - 0s 7ms/step - loss: -349.3299 - accuracy: 0.7016 - val_loss: -370.9781 - val_accuracy: 0.7234\n",
      "Epoch 71/100\n",
      "4/4 [==============================] - 0s 7ms/step - loss: -366.3980 - accuracy: 0.7016 - val_loss: -389.2569 - val_accuracy: 0.7234\n",
      "Epoch 72/100\n",
      "4/4 [==============================] - 0s 7ms/step - loss: -384.0597 - accuracy: 0.7016 - val_loss: -408.2005 - val_accuracy: 0.7234\n",
      "Epoch 73/100\n",
      "4/4 [==============================] - 0s 6ms/step - loss: -402.2260 - accuracy: 0.7016 - val_loss: -427.7910 - val_accuracy: 0.7234\n",
      "Epoch 74/100\n",
      "4/4 [==============================] - 0s 6ms/step - loss: -421.5876 - accuracy: 0.7016 - val_loss: -447.9659 - val_accuracy: 0.7234\n",
      "Epoch 75/100\n",
      "4/4 [==============================] - 0s 11ms/step - loss: -440.3753 - accuracy: 0.7016 - val_loss: -469.1583 - val_accuracy: 0.7234\n",
      "Epoch 76/100\n",
      "4/4 [==============================] - 0s 10ms/step - loss: -460.6852 - accuracy: 0.7016 - val_loss: -490.9599 - val_accuracy: 0.7234\n",
      "Epoch 77/100\n",
      "4/4 [==============================] - 0s 10ms/step - loss: -481.2997 - accuracy: 0.7016 - val_loss: -513.4588 - val_accuracy: 0.7234\n",
      "Epoch 78/100\n",
      "4/4 [==============================] - 0s 10ms/step - loss: -502.2170 - accuracy: 0.7016 - val_loss: -536.8344 - val_accuracy: 0.7234\n",
      "Epoch 79/100\n",
      "4/4 [==============================] - 0s 10ms/step - loss: -525.3230 - accuracy: 0.7016 - val_loss: -560.3713 - val_accuracy: 0.7234\n",
      "Epoch 80/100\n",
      "4/4 [==============================] - 0s 10ms/step - loss: -545.8565 - accuracy: 0.7016 - val_loss: -585.3527 - val_accuracy: 0.7234\n",
      "Epoch 81/100\n",
      "4/4 [==============================] - 0s 11ms/step - loss: -570.8256 - accuracy: 0.7016 - val_loss: -609.9367 - val_accuracy: 0.7234\n",
      "Epoch 82/100\n",
      "4/4 [==============================] - 0s 8ms/step - loss: -594.6718 - accuracy: 0.7016 - val_loss: -635.3900 - val_accuracy: 0.7234\n",
      "Epoch 83/100\n",
      "4/4 [==============================] - 0s 11ms/step - loss: -618.8576 - accuracy: 0.7016 - val_loss: -661.5356 - val_accuracy: 0.7234\n",
      "Epoch 84/100\n",
      "4/4 [==============================] - 0s 7ms/step - loss: -643.9075 - accuracy: 0.7016 - val_loss: -688.4783 - val_accuracy: 0.7234\n",
      "Epoch 85/100\n",
      "4/4 [==============================] - 0s 7ms/step - loss: -669.5412 - accuracy: 0.7016 - val_loss: -716.4326 - val_accuracy: 0.7234\n",
      "Epoch 86/100\n",
      "4/4 [==============================] - 0s 11ms/step - loss: -695.9622 - accuracy: 0.7016 - val_loss: -745.1252 - val_accuracy: 0.7234\n",
      "Epoch 87/100\n",
      "4/4 [==============================] - 0s 9ms/step - loss: -723.3138 - accuracy: 0.7016 - val_loss: -774.7747 - val_accuracy: 0.7234\n",
      "Epoch 88/100\n",
      "4/4 [==============================] - 0s 10ms/step - loss: -749.8305 - accuracy: 0.7016 - val_loss: -805.4973 - val_accuracy: 0.7234\n",
      "Epoch 89/100\n",
      "4/4 [==============================] - 0s 10ms/step - loss: -778.5170 - accuracy: 0.7016 - val_loss: -836.7105 - val_accuracy: 0.7234\n",
      "Epoch 90/100\n",
      "4/4 [==============================] - 0s 7ms/step - loss: -808.5554 - accuracy: 0.7016 - val_loss: -868.2919 - val_accuracy: 0.7234\n",
      "Epoch 91/100\n",
      "4/4 [==============================] - 0s 6ms/step - loss: -838.6855 - accuracy: 0.7016 - val_loss: -900.5489 - val_accuracy: 0.7234\n",
      "Epoch 92/100\n",
      "4/4 [==============================] - 0s 7ms/step - loss: -869.2976 - accuracy: 0.7016 - val_loss: -933.7343 - val_accuracy: 0.7234\n",
      "Epoch 93/100\n",
      "4/4 [==============================] - 0s 6ms/step - loss: -900.3248 - accuracy: 0.7016 - val_loss: -968.1617 - val_accuracy: 0.7234\n",
      "Epoch 94/100\n",
      "4/4 [==============================] - 0s 11ms/step - loss: -933.1848 - accuracy: 0.7016 - val_loss: -1003.0214 - val_accuracy: 0.7234\n",
      "Epoch 95/100\n",
      "4/4 [==============================] - 0s 10ms/step - loss: -965.4879 - accuracy: 0.7016 - val_loss: -1039.0728 - val_accuracy: 0.7234\n",
      "Epoch 96/100\n",
      "4/4 [==============================] - 0s 10ms/step - loss: -998.9617 - accuracy: 0.7016 - val_loss: -1076.1113 - val_accuracy: 0.7234\n",
      "Epoch 97/100\n",
      "4/4 [==============================] - 0s 10ms/step - loss: -1032.7159 - accuracy: 0.7016 - val_loss: -1114.0676 - val_accuracy: 0.7234\n",
      "Epoch 98/100\n",
      "4/4 [==============================] - 0s 9ms/step - loss: -1069.6080 - accuracy: 0.7016 - val_loss: -1152.4264 - val_accuracy: 0.7234\n",
      "Epoch 99/100\n",
      "4/4 [==============================] - 0s 11ms/step - loss: -1104.2932 - accuracy: 0.7016 - val_loss: -1192.3002 - val_accuracy: 0.7234\n",
      "Epoch 100/100\n",
      "4/4 [==============================] - 0s 6ms/step - loss: -1141.4176 - accuracy: 0.7016 - val_loss: -1232.5773 - val_accuracy: 0.7234\n"
     ]
    }
   ],
   "source": [
    "# Fitting the ANN to the Training set\n",
    "model_history = classifier.fit(X_train,y_train,batch_size=100,validation_split=0.2,epochs=100)"
   ]
  },
  {
   "cell_type": "code",
   "execution_count": 212,
   "id": "7ac77904",
   "metadata": {},
   "outputs": [
    {
     "name": "stderr",
     "output_type": "stream",
     "text": [
      "C:\\Users\\GASCCS23\\anaconda3\\lib\\site-packages\\sklearn\\base.py:420: UserWarning: X does not have valid feature names, but DecisionTreeClassifier was fitted with feature names\n",
      "  warnings.warn(\n"
     ]
    },
    {
     "data": {
      "text/plain": [
       "array([1], dtype=int64)"
      ]
     },
     "execution_count": 212,
     "metadata": {},
     "output_type": "execute_result"
    }
   ],
   "source": [
    "#Age------->Gender--->Total_Bilrubin\"Alkaline_phototase------>Alain_Aminoransferase------>Asparate_Aminotrans\n",
    "model4.predict([[50,1,1,2,0,8,150,70,80,7,]])\n"
   ]
  },
  {
   "cell_type": "code",
   "execution_count": 213,
   "id": "719fe79e",
   "metadata": {},
   "outputs": [
    {
     "name": "stderr",
     "output_type": "stream",
     "text": [
      "C:\\Users\\GASCCS23\\anaconda3\\lib\\site-packages\\sklearn\\base.py:420: UserWarning: X does not have valid feature names, but RandomForestClassifier was fitted with feature names\n",
      "  warnings.warn(\n"
     ]
    },
    {
     "data": {
      "text/plain": [
       "array([1], dtype=int64)"
      ]
     },
     "execution_count": 213,
     "metadata": {},
     "output_type": "execute_result"
    }
   ],
   "source": [
    "#Age------->Gender--->Total_Bilrubin\"Alkaline_phototase------>Alain_Aminoransferase------>Asparate_Aminotrans\n",
    "model1.predict([[50,1,1,2,0,8,150,70,80,7,]])\n"
   ]
  },
  {
   "cell_type": "code",
   "execution_count": 214,
   "id": "09ced917",
   "metadata": {},
   "outputs": [
    {
     "name": "stderr",
     "output_type": "stream",
     "text": [
      "C:\\Users\\GASCCS23\\anaconda3\\lib\\site-packages\\sklearn\\base.py:420: UserWarning: X does not have valid feature names, but KNeighborsClassifier was fitted with feature names\n",
      "  warnings.warn(\n"
     ]
    },
    {
     "data": {
      "text/plain": [
       "array([1], dtype=int64)"
      ]
     },
     "execution_count": 214,
     "metadata": {},
     "output_type": "execute_result"
    }
   ],
   "source": [
    "#Age------->Gender--->Total_Bilrubin\"Alkaline_phototase------>Alain_Aminoransferase------>Asparate_Aminotrans\n",
    "model2.predict([[50,1,1,2,0,8,150,70,80,7,]])\n"
   ]
  },
  {
   "cell_type": "code",
   "execution_count": 215,
   "id": "275643e4",
   "metadata": {},
   "outputs": [
    {
     "name": "stderr",
     "output_type": "stream",
     "text": [
      "C:\\Users\\GASCCS23\\anaconda3\\lib\\site-packages\\sklearn\\base.py:420: UserWarning: X does not have valid feature names, but LogisticRegression was fitted with feature names\n",
      "  warnings.warn(\n"
     ]
    },
    {
     "data": {
      "text/plain": [
       "array([1], dtype=int64)"
      ]
     },
     "execution_count": 215,
     "metadata": {},
     "output_type": "execute_result"
    }
   ],
   "source": [
    "#Age------->Gender--->Total_Bilrubin\"Alkaline_phototase------>Alain_Aminoransferase------>Asparate_Aminotrans\n",
    "model5.predict([[50,1,1,2,0,8,150,70,80,7,]])\n"
   ]
  },
  {
   "cell_type": "code",
   "execution_count": 218,
   "id": "8aa27cd0",
   "metadata": {},
   "outputs": [
    {
     "name": "stdout",
     "output_type": "stream",
     "text": [
      "4/4 [==============================] - 0s 3ms/step\n"
     ]
    }
   ],
   "source": [
    "y_pred = classifier.predict(X_test)"
   ]
  },
  {
   "cell_type": "code",
   "execution_count": 219,
   "id": "d2f93fff",
   "metadata": {},
   "outputs": [
    {
     "data": {
      "text/plain": [
       "array([[ True],\n",
       "       [ True],\n",
       "       [ True],\n",
       "       [ True],\n",
       "       [ True],\n",
       "       [ True],\n",
       "       [ True],\n",
       "       [ True],\n",
       "       [ True],\n",
       "       [ True],\n",
       "       [ True],\n",
       "       [ True],\n",
       "       [ True],\n",
       "       [ True],\n",
       "       [ True],\n",
       "       [ True],\n",
       "       [ True],\n",
       "       [ True],\n",
       "       [ True],\n",
       "       [ True],\n",
       "       [ True],\n",
       "       [ True],\n",
       "       [ True],\n",
       "       [ True],\n",
       "       [ True],\n",
       "       [ True],\n",
       "       [ True],\n",
       "       [ True],\n",
       "       [ True],\n",
       "       [ True],\n",
       "       [ True],\n",
       "       [ True],\n",
       "       [ True],\n",
       "       [ True],\n",
       "       [ True],\n",
       "       [ True],\n",
       "       [ True],\n",
       "       [ True],\n",
       "       [ True],\n",
       "       [ True],\n",
       "       [ True],\n",
       "       [ True],\n",
       "       [ True],\n",
       "       [ True],\n",
       "       [ True],\n",
       "       [ True],\n",
       "       [ True],\n",
       "       [ True],\n",
       "       [ True],\n",
       "       [ True],\n",
       "       [ True],\n",
       "       [ True],\n",
       "       [ True],\n",
       "       [ True],\n",
       "       [ True],\n",
       "       [ True],\n",
       "       [ True],\n",
       "       [ True],\n",
       "       [ True],\n",
       "       [ True],\n",
       "       [ True],\n",
       "       [ True],\n",
       "       [ True],\n",
       "       [ True],\n",
       "       [ True],\n",
       "       [ True],\n",
       "       [ True],\n",
       "       [ True],\n",
       "       [ True],\n",
       "       [ True],\n",
       "       [ True],\n",
       "       [ True],\n",
       "       [ True],\n",
       "       [ True],\n",
       "       [ True],\n",
       "       [ True],\n",
       "       [ True],\n",
       "       [ True],\n",
       "       [ True],\n",
       "       [ True],\n",
       "       [ True],\n",
       "       [ True],\n",
       "       [ True],\n",
       "       [ True],\n",
       "       [ True],\n",
       "       [ True],\n",
       "       [ True],\n",
       "       [ True],\n",
       "       [ True],\n",
       "       [ True],\n",
       "       [ True],\n",
       "       [ True],\n",
       "       [ True],\n",
       "       [ True],\n",
       "       [ True],\n",
       "       [ True],\n",
       "       [ True],\n",
       "       [ True],\n",
       "       [ True],\n",
       "       [ True],\n",
       "       [ True],\n",
       "       [ True],\n",
       "       [ True],\n",
       "       [ True],\n",
       "       [ True],\n",
       "       [ True],\n",
       "       [ True],\n",
       "       [ True],\n",
       "       [ True],\n",
       "       [ True],\n",
       "       [ True],\n",
       "       [ True],\n",
       "       [ True],\n",
       "       [ True],\n",
       "       [ True],\n",
       "       [ True],\n",
       "       [ True]])"
      ]
     },
     "execution_count": 219,
     "metadata": {},
     "output_type": "execute_result"
    }
   ],
   "source": [
    "y_pred = (y_pred>0.5)\n",
    "y_pred"
   ]
  },
  {
   "cell_type": "code",
   "execution_count": 220,
   "id": "2cec168c",
   "metadata": {},
   "outputs": [
    {
     "data": {
      "text/html": [
       "<div>\n",
       "<style scoped>\n",
       "    .dataframe tbody tr th:only-of-type {\n",
       "        vertical-align: middle;\n",
       "    }\n",
       "\n",
       "    .dataframe tbody tr th {\n",
       "        vertical-align: top;\n",
       "    }\n",
       "\n",
       "    .dataframe thead th {\n",
       "        text-align: right;\n",
       "    }\n",
       "</style>\n",
       "<table border=\"1\" class=\"dataframe\">\n",
       "  <thead>\n",
       "    <tr style=\"text-align: right;\">\n",
       "      <th></th>\n",
       "      <th>Classification models</th>\n",
       "      <th>accuracy_score</th>\n",
       "    </tr>\n",
       "  </thead>\n",
       "  <tbody>\n",
       "    <tr>\n",
       "      <th>0</th>\n",
       "      <td>KNM Classifier</td>\n",
       "      <td>0.658120</td>\n",
       "    </tr>\n",
       "    <tr>\n",
       "      <th>1</th>\n",
       "      <td>RandomForestClassifier</td>\n",
       "      <td>0.743590</td>\n",
       "    </tr>\n",
       "    <tr>\n",
       "      <th>2</th>\n",
       "      <td>DecisionTreeClassifier</td>\n",
       "      <td>0.700855</td>\n",
       "    </tr>\n",
       "    <tr>\n",
       "      <th>3</th>\n",
       "      <td>LogesticRegression</td>\n",
       "      <td>0.752137</td>\n",
       "    </tr>\n",
       "  </tbody>\n",
       "</table>\n",
       "</div>"
      ],
      "text/plain": [
       "    Classification models  accuracy_score\n",
       "0          KNM Classifier        0.658120\n",
       "1  RandomForestClassifier        0.743590\n",
       "2  DecisionTreeClassifier        0.700855\n",
       "3      LogesticRegression        0.752137"
      ]
     },
     "execution_count": 220,
     "metadata": {},
     "output_type": "execute_result"
    }
   ],
   "source": [
    "acc_smote=[['KNM Classifier', knn1],['RandomForestClassifier',rfc1],\n",
    "            ['DecisionTreeClassifier',dtc1],['LogesticRegression',logi1]]\n",
    "Liverpatient_pred= pd.DataFrame(acc_smote, columns = ['Classification models','accuracy_score'])\n",
    "Liverpatient_pred"
   ]
  },
  {
   "cell_type": "code",
   "execution_count": 223,
   "id": "0fa5a43d",
   "metadata": {},
   "outputs": [
    {
     "data": {
      "text/plain": [
       "<Axes: title={'center': 'Classification models & accuracy scores after SMOTE'}>"
      ]
     },
     "execution_count": 223,
     "metadata": {},
     "output_type": "execute_result"
    },
    {
     "data": {
      "image/png": "[encoded data removed]",
      "text/plain": [
       "<Figure size 700x500 with 1 Axes>"
      ]
     },
     "metadata": {},
     "output_type": "display_data"
    }
   ],
   "source": [
    "plt.figure(figsize=(7,5))\n",
    "plt.xticks(rotation=90)\n",
    "plt.title('Classification models & accuracy scores after SMOTE',fontsize=18)\n",
    "sns.barplot(Liverpatient_pred)"
   ]
  },
  {
   "cell_type": "code",
   "execution_count": 224,
   "id": "b4b38978",
   "metadata": {},
   "outputs": [
    {
     "data": {
      "text/html": [
       "<style>#sk-container-id-3 {color: black;background-color: white;}#sk-container-id-3 pre{padding: 0;}#sk-container-id-3 div.sk-toggleable {background-color: white;}#sk-container-id-3 label.sk-toggleable__label {cursor: pointer;display: block;width: 100%;margin-bottom: 0;padding: 0.3em;box-sizing: border-box;text-align: center;}#sk-container-id-3 label.sk-toggleable__label-arrow:before {content: \"▸\";float: left;margin-right: 0.25em;color: #696969;}#sk-container-id-3 label.sk-toggleable__label-arrow:hover:before {color: black;}#sk-container-id-3 div.sk-estimator:hover label.sk-toggleable__label-arrow:before {color: black;}#sk-container-id-3 div.sk-toggleable__content {max-height: 0;max-width: 0;overflow: hidden;text-align: left;background-color: #f0f8ff;}#sk-container-id-3 div.sk-toggleable__content pre {margin: 0.2em;color: black;border-radius: 0.25em;background-color: #f0f8ff;}#sk-container-id-3 input.sk-toggleable__control:checked~div.sk-toggleable__content {max-height: 200px;max-width: 100%;overflow: auto;}#sk-container-id-3 input.sk-toggleable__control:checked~label.sk-toggleable__label-arrow:before {content: \"▾\";}#sk-container-id-3 div.sk-estimator input.sk-toggleable__control:checked~label.sk-toggleable__label {background-color: #d4ebff;}#sk-container-id-3 div.sk-label input.sk-toggleable__control:checked~label.sk-toggleable__label {background-color: #d4ebff;}#sk-container-id-3 input.sk-hidden--visually {border: 0;clip: rect(1px 1px 1px 1px);clip: rect(1px, 1px, 1px, 1px);height: 1px;margin: -1px;overflow: hidden;padding: 0;position: absolute;width: 1px;}#sk-container-id-3 div.sk-estimator {font-family: monospace;background-color: #f0f8ff;border: 1px dotted black;border-radius: 0.25em;box-sizing: border-box;margin-bottom: 0.5em;}#sk-container-id-3 div.sk-estimator:hover {background-color: #d4ebff;}#sk-container-id-3 div.sk-parallel-item::after {content: \"\";width: 100%;border-bottom: 1px solid gray;flex-grow: 1;}#sk-container-id-3 div.sk-label:hover label.sk-toggleable__label {background-color: #d4ebff;}#sk-container-id-3 div.sk-serial::before {content: \"\";position: absolute;border-left: 1px solid gray;box-sizing: border-box;top: 0;bottom: 0;left: 50%;z-index: 0;}#sk-container-id-3 div.sk-serial {display: flex;flex-direction: column;align-items: center;background-color: white;padding-right: 0.2em;padding-left: 0.2em;position: relative;}#sk-container-id-3 div.sk-item {position: relative;z-index: 1;}#sk-container-id-3 div.sk-parallel {display: flex;align-items: stretch;justify-content: center;background-color: white;position: relative;}#sk-container-id-3 div.sk-item::before, #sk-container-id-3 div.sk-parallel-item::before {content: \"\";position: absolute;border-left: 1px solid gray;box-sizing: border-box;top: 0;bottom: 0;left: 50%;z-index: -1;}#sk-container-id-3 div.sk-parallel-item {display: flex;flex-direction: column;z-index: 1;position: relative;background-color: white;}#sk-container-id-3 div.sk-parallel-item:first-child::after {align-self: flex-end;width: 50%;}#sk-container-id-3 div.sk-parallel-item:last-child::after {align-self: flex-start;width: 50%;}#sk-container-id-3 div.sk-parallel-item:only-child::after {width: 0;}#sk-container-id-3 div.sk-dashed-wrapped {border: 1px dashed gray;margin: 0 0.4em 0.5em 0.4em;box-sizing: border-box;padding-bottom: 0.4em;background-color: white;}#sk-container-id-3 div.sk-label label {font-family: monospace;font-weight: bold;display: inline-block;line-height: 1.2em;}#sk-container-id-3 div.sk-label-container {text-align: center;}#sk-container-id-3 div.sk-container {/* jupyter's `normalize.less` sets `[hidden] { display: none; }` but bootstrap.min.css set `[hidden] { display: none !important; }` so we also need the `!important` here to be able to override the default hidden behavior on the sphinx rendered scikit-learn.org. See: https://github.com/scikit-learn/scikit-learn/issues/21755 */display: inline-block !important;position: relative;}#sk-container-id-3 div.sk-text-repr-fallback {display: none;}</style><div id=\"sk-container-id-3\" class=\"sk-top-container\"><div class=\"sk-text-repr-fallback\"><pre>ExtraTreesClassifier()</pre><b>In a Jupyter environment, please rerun this cell to show the HTML representation or trust the notebook. <br />On GitHub, the HTML representation is unable to render, please try loading this page with nbviewer.org.</b></div><div class=\"sk-container\" hidden><div class=\"sk-item\"><div class=\"sk-estimator sk-toggleable\"><input class=\"sk-toggleable__control sk-hidden--visually\" id=\"sk-estimator-id-3\" type=\"checkbox\" checked><label for=\"sk-estimator-id-3\" class=\"sk-toggleable__label sk-toggleable__label-arrow\">ExtraTreesClassifier</label><div class=\"sk-toggleable__content\"><pre>ExtraTreesClassifier()</pre></div></div></div></div></div>"
      ],
      "text/plain": [
       "ExtraTreesClassifier()"
      ]
     },
     "execution_count": 224,
     "metadata": {},
     "output_type": "execute_result"
    }
   ],
   "source": [
    "from sklearn.ensemble import ExtraTreesClassifier\n",
    "model=ExtraTreesClassifier()\n",
    "model.fit(X,y)"
   ]
  },
  {
   "cell_type": "code",
   "execution_count": 225,
   "id": "71b68ce4",
   "metadata": {},
   "outputs": [
    {
     "data": {
      "text/plain": [
       "array([0.11956219, 0.02374855, 0.11240415, 0.10163311, 0.11775138,\n",
       "       0.11827751, 0.11679728, 0.09007719, 0.10155977, 0.09818887])"
      ]
     },
     "execution_count": 225,
     "metadata": {},
     "output_type": "execute_result"
    }
   ],
   "source": [
    "model.feature_importances_"
   ]
  },
  {
   "cell_type": "code",
   "execution_count": 228,
   "id": "254a2f44",
   "metadata": {},
   "outputs": [
    {
     "data": {
      "text/html": [
       "<div>\n",
       "<style scoped>\n",
       "    .dataframe tbody tr th:only-of-type {\n",
       "        vertical-align: middle;\n",
       "    }\n",
       "\n",
       "    .dataframe tbody tr th {\n",
       "        vertical-align: top;\n",
       "    }\n",
       "\n",
       "    .dataframe thead th {\n",
       "        text-align: right;\n",
       "    }\n",
       "</style>\n",
       "<table border=\"1\" class=\"dataframe\">\n",
       "  <thead>\n",
       "    <tr style=\"text-align: right;\">\n",
       "      <th></th>\n",
       "      <th>0</th>\n",
       "    </tr>\n",
       "  </thead>\n",
       "  <tbody>\n",
       "    <tr>\n",
       "      <th>Age</th>\n",
       "      <td>0.119562</td>\n",
       "    </tr>\n",
       "    <tr>\n",
       "      <th>Alamine_Aminotransferase</th>\n",
       "      <td>0.118278</td>\n",
       "    </tr>\n",
       "    <tr>\n",
       "      <th>Alkaline_Phosphotase</th>\n",
       "      <td>0.117751</td>\n",
       "    </tr>\n",
       "    <tr>\n",
       "      <th>Aspartate_Aminotransferase</th>\n",
       "      <td>0.116797</td>\n",
       "    </tr>\n",
       "    <tr>\n",
       "      <th>Total_Bilirubin</th>\n",
       "      <td>0.112404</td>\n",
       "    </tr>\n",
       "    <tr>\n",
       "      <th>Direct_Bilirubin</th>\n",
       "      <td>0.101633</td>\n",
       "    </tr>\n",
       "    <tr>\n",
       "      <th>Albumin</th>\n",
       "      <td>0.101560</td>\n",
       "    </tr>\n",
       "    <tr>\n",
       "      <th>Albumin_and_Globulin_Ratio</th>\n",
       "      <td>0.098189</td>\n",
       "    </tr>\n",
       "    <tr>\n",
       "      <th>Total_Protiens</th>\n",
       "      <td>0.090077</td>\n",
       "    </tr>\n",
       "    <tr>\n",
       "      <th>Gender</th>\n",
       "      <td>0.023749</td>\n",
       "    </tr>\n",
       "  </tbody>\n",
       "</table>\n",
       "</div>"
      ],
      "text/plain": [
       "                                   0\n",
       "Age                         0.119562\n",
       "Alamine_Aminotransferase    0.118278\n",
       "Alkaline_Phosphotase        0.117751\n",
       "Aspartate_Aminotransferase  0.116797\n",
       "Total_Bilirubin             0.112404\n",
       "Direct_Bilirubin            0.101633\n",
       "Albumin                     0.101560\n",
       "Albumin_and_Globulin_Ratio  0.098189\n",
       "Total_Protiens              0.090077\n",
       "Gender                      0.023749"
      ]
     },
     "execution_count": 228,
     "metadata": {},
     "output_type": "execute_result"
    }
   ],
   "source": [
    "dd=pd.DataFrame(model.feature_importances_,index=X.columns).sort_values(0,ascending=False)\n",
    "dd"
   ]
  },
  {
   "cell_type": "code",
   "execution_count": 239,
   "id": "9596bf0e",
   "metadata": {},
   "outputs": [
    {
     "data": {
      "text/plain": [
       "Text(0.5, 1.0, 'FEATURE IMPORTANCE')"
      ]
     },
     "execution_count": 239,
     "metadata": {},
     "output_type": "execute_result"
    },
    {
     "data": {
      "image/png": "[encoded data removed]",
      "text/plain": [
       "<Figure size 700x600 with 1 Axes>"
      ]
     },
     "metadata": {},
     "output_type": "display_data"
    }
   ],
   "source": [
    "dd.plot(kind='barh',figsize=(7,6))\n",
    "plt.title(\"FEATURE IMPORTANCE\",fontsize=14)"
   ]
  },
  {
   "cell_type": "code",
   "execution_count": 264,
   "id": "86b41006",
   "metadata": {},
   "outputs": [
    {
     "data": {
      "text/plain": [
       "['ETC.pk1']"
      ]
     },
     "execution_count": 264,
     "metadata": {},
     "output_type": "execute_result"
    }
   ],
   "source": [
    "import joblib\n",
    "joblib.dump(model1,'ETC.pk1')\n"
   ]
  },
  {
   "cell_type": "code",
   "execution_count": null,
   "id": "f0b9b83e",
   "metadata": {},
   "outputs": [
    {
     "name": "stdout",
     "output_type": "stream",
     "text": [
      " * Serving Flask app '__main__'\n",
      " * Debug mode: off\n"
     ]
    },
    {
     "name": "stderr",
     "output_type": "stream",
     "text": [
      "WARNING: This is a development server. Do not use it in a production deployment. Use a production WSGI server instead.\n",
      " * Running on http://127.0.0.1:5000\n",
      "Press CTRL+C to quit\n",
      "[2023-04-22 13:44:49,576] ERROR in app: Exception on / [GET]\n",
      "Traceback (most recent call last):\n",
      "  File \"C:\\Users\\GASCCS23\\anaconda3\\lib\\site-packages\\flask\\app.py\", line 2525, in wsgi_app\n",
      "    response = self.full_dispatch_request()\n",
      "  File \"C:\\Users\\GASCCS23\\anaconda3\\lib\\site-packages\\flask\\app.py\", line 1822, in full_dispatch_request\n",
      "    rv = self.handle_user_exception(e)\n",
      "  File \"C:\\Users\\GASCCS23\\anaconda3\\lib\\site-packages\\flask\\app.py\", line 1820, in full_dispatch_request\n",
      "    rv = self.dispatch_request()\n",
      "  File \"C:\\Users\\GASCCS23\\anaconda3\\lib\\site-packages\\flask\\app.py\", line 1796, in dispatch_request\n",
      "    return self.ensure_sync(self.view_functions[rule.endpoint])(**view_args)\n",
      "  File \"C:\\Users\\GASCCS23\\AppData\\Local\\Temp\\ipykernel_7372\\3556402123.py\", line 8, in home\n",
      "    return render_templater('home.html')\n",
      "NameError: name 'render_templater' is not defined\n",
      "127.0.0.1 - - [22/Apr/2023 13:44:49] \"GET / HTTP/1.1\" 500 -\n",
      "127.0.0.1 - - [22/Apr/2023 13:44:51] \"GET /favicon.ico HTTP/1.1\" 404 -\n",
      "[2023-04-22 13:44:57,224] ERROR in app: Exception on / [GET]\n",
      "Traceback (most recent call last):\n",
      "  File \"C:\\Users\\GASCCS23\\anaconda3\\lib\\site-packages\\flask\\app.py\", line 2525, in wsgi_app\n",
      "    response = self.full_dispatch_request()\n",
      "  File \"C:\\Users\\GASCCS23\\anaconda3\\lib\\site-packages\\flask\\app.py\", line 1822, in full_dispatch_request\n",
      "    rv = self.handle_user_exception(e)\n",
      "  File \"C:\\Users\\GASCCS23\\anaconda3\\lib\\site-packages\\flask\\app.py\", line 1820, in full_dispatch_request\n",
      "    rv = self.dispatch_request()\n",
      "  File \"C:\\Users\\GASCCS23\\anaconda3\\lib\\site-packages\\flask\\app.py\", line 1796, in dispatch_request\n",
      "    return self.ensure_sync(self.view_functions[rule.endpoint])(**view_args)\n",
      "  File \"C:\\Users\\GASCCS23\\AppData\\Local\\Temp\\ipykernel_7372\\3556402123.py\", line 8, in home\n",
      "    return render_templater('home.html')\n",
      "NameError: name 'render_templater' is not defined\n",
      "127.0.0.1 - - [22/Apr/2023 13:44:57] \"GET / HTTP/1.1\" 500 -\n"
     ]
    }
   ],
   "source": [
    "from flask import Flask, render_template, request\n",
    "import numpy as np\n",
    "import pickle\n",
    "app=Flask(__name__)# our flash app\n",
    "\n",
    "@app.route('/')# rendering the html template\n",
    "def home():\n",
    "    return render_templater('home.html')\n",
    "@app.route('/predict')# renduering the html template\n",
    "def intex() :\n",
    "    return render_template(\"intex.html\")\n",
    "@app.route('/data_predict',methods=['POST'])#route for our prediction\n",
    "def predict():\n",
    "    age = request.form['age']#requesting for age data\n",
    "    gender = request.form['gender']#requesting for gender data\n",
    "    tb = reuest.form['tb']#requesting Total_Bilirubin data\n",
    "    db = reuest.form['db']#requesting Direct_Bilirubin data\n",
    "    ap = reuest.form['ap']#requesting Alkaline_Phosphotase data\n",
    "    aa1 = reuest.form['aa1']#requesting Alamine_Aminotransferase data\n",
    "    aa2 = reuest.form['aa2']#requesting Aspartate_Aminotransferase data\n",
    "    tp = reuest.form['tp']#requesting Total_Protiens data\n",
    "    a = reuest.form['a']#requesting Albumin data\n",
    "    agr = reuest.form['agr']#requesting Albumin_and_Globulin_Ratio data\n",
    "    \n",
    "    # coverting data into float format\n",
    "    data = [[float(age),float(gender),float(tb),float(db),float(ap),float(aa1),float(aa2),float(tp),]]\n",
    "             \n",
    "    # loading model which we saved\n",
    "    model = pickle.load(open('liver_analysis.pkl','rb'))\n",
    "             \n",
    "    prediction= model.predict(data)[0]\n",
    "    if (prediction == 1):\n",
    "             return render_template('noChance.html', prediction='You have a liver desease problem, You must and ')\n",
    "    else:\n",
    "             return render_template('chance.html', prediction='You dont have a liver desease problem')\n",
    "                                    \n",
    "if __name__ == '__main__':\n",
    "             app.run()"
   ]
  },
  {
   "cell_type": "code",
   "execution_count": null,
   "id": "610ca3b0",
   "metadata": {},
   "outputs": [],
   "source": []
  }
 ],
 "metadata": {
  "kernelspec": {
   "display_name": "Python 3 (ipykernel)",
   "language": "python",
   "name": "python3"
  },
  "language_info": {
   "codemirror_mode": {
    "name": "ipython",
    "version": 3
   },
   "file_extension": ".py",
   "mimetype": "text/x-python",
   "name": "python",
   "nbconvert_exporter": "python",
   "pygments_lexer": "ipython3",
   "version": "3.10.9"
  }
 },
 "nbformat": 4,
 "nbformat_minor": 5
}
